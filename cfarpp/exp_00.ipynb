{
 "cells": [
  {
   "cell_type": "code",
   "execution_count": null,
   "metadata": {},
   "outputs": [],
   "source": [
    "%matplotlib inline\n",
    "from rod2021_class import ROD_2021\n",
    "from _utils import get_all_scenarios, create_baseline_csv, plot_baseline_experiments"
   ]
  },
  {
   "cell_type": "markdown",
   "metadata": {},
   "source": [
    "In this scenario, the baseline parameters for the guard bound and training bound parameters can be determined.\n",
    "For that, each combination is looped once for all given scenarios in `scenario_list`. For each combination, two CSV files with the results are stored in the export directory which is given by `cfg/config.yaml`.\n",
    "\n",
    "Remember that running the next cell will take its time, depending on the number of scenarios."
   ]
  },
  {
   "cell_type": "code",
   "execution_count": null,
   "metadata": {},
   "outputs": [],
   "source": [
    "# rod = ROD_2021(2, 2, 4, 4)\n",
    "# scenario_list = get_all_scenarios(rod)\n",
    "scenario_list = [\"2019_04_09_BMS1000\"]\n",
    "\n",
    "# loop through all discrete parameter sets\n",
    "for av_range in [2, 4, 6, 8, 10, 12, 14]:\n",
    "    for av_angle in [2, 4, 6, 8, 10, 12, 14]:\n",
    "        for guard_range in [2, 4, 6, 8, 10, 12, 14]:\n",
    "            for guard_angle in [2, 4, 6, 8, 10, 12, 14]:\n",
    "                # condition to apply CA-CFAR\n",
    "                if guard_angle < av_angle and guard_range < av_range:\n",
    "                    rod = ROD_2021(\n",
    "                        av_range, av_angle, guard_range, guard_angle)\n",
    "\n",
    "                    # loop through all scenarios of the given list\n",
    "                    for sc in scenario_list:\n",
    "                        rod.scenario_loader(sc)\n",
    "                        # loop through all frames of the scenario\n",
    "                        rod.loop_frames(sc)\n",
    "\n",
    "                    # close the CSV files\n",
    "                    rod.f_gt.close()\n",
    "                    rod.f_det.close()"
   ]
  },
  {
   "cell_type": "markdown",
   "metadata": {},
   "source": [
    "If all baseline files are created, the baseline CSV can be created. You should adjust your export directory to run the function.\n",
    "The file `baseline.csv` will be created in the export directory."
   ]
  },
  {
   "cell_type": "code",
   "execution_count": null,
   "metadata": {},
   "outputs": [],
   "source": [
    "dir_export = \"\"\n",
    "\n",
    "create_baseline_csv(dir_export)\n",
    "plot_baseline_experiments(dir_export)"
   ]
  }
 ],
 "metadata": {
  "kernelspec": {
   "display_name": "Python 3",
   "language": "python",
   "name": "python3"
  },
  "language_info": {
   "codemirror_mode": {
    "name": "ipython",
    "version": 3
   },
   "file_extension": ".py",
   "mimetype": "text/x-python",
   "name": "python",
   "nbconvert_exporter": "python",
   "pygments_lexer": "ipython3",
   "version": "3.10.12"
  }
 },
 "nbformat": 4,
 "nbformat_minor": 2
}
