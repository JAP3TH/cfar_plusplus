{
 "cells": [
  {
   "cell_type": "code",
   "execution_count": null,
   "metadata": {},
   "outputs": [],
   "source": [
    "import rod2021_class\n",
    "from _utils import get_all_scenarios\n",
    "from time import time\n"
   ]
  },
  {
   "cell_type": "markdown",
   "metadata": {},
   "source": [
    "This experiment investigates the effect of threshold lowering in critical regions just for the current step."
   ]
  },
  {
   "cell_type": "code",
   "execution_count": null,
   "metadata": {},
   "outputs": [],
   "source": [
    "av_range = 12\n",
    "av_angle = 4\n",
    "guard_range = 10\n",
    "guard_angle = 2\n",
    "\n",
    "rod = rod2021_class.ROD_2021(\n",
    "    av_range, av_angle, guard_range, guard_angle)\n",
    "\n",
    "# gets all available scenes\n",
    "# scenario_list = [\"2019_04_09_BMS1000\"]\n",
    "scenario_list = get_all_scenarios(rod)\n",
    "\n",
    "# play all files of the list\n",
    "t0 = time()\n",
    "frame_cnt = 0\n",
    "for sc in scenario_list:\n",
    "    # select first scenario from the list\n",
    "    rod.scenario_loader(sc)\n",
    "    frame_cnt += rod.frame_len\n",
    "    # loop through frames of the scenario\n",
    "    rod.loop_frames_yolo(sc)\n",
    "t3 = time()\n",
    "print(f\"Total time for all scenarios: {t3 - t0}, average per frame: {(t3 - t0) / frame_cnt}\")\n",
    "\n",
    "# close the CSV files\n",
    "rod.f_gt.close()\n",
    "rod.f_det.close()"
   ]
  }
 ],
 "metadata": {
  "kernelspec": {
   "display_name": "Python 3",
   "language": "python",
   "name": "python3"
  },
  "language_info": {
   "codemirror_mode": {
    "name": "ipython",
    "version": 3
   },
   "file_extension": ".py",
   "mimetype": "text/x-python",
   "name": "python",
   "nbconvert_exporter": "python",
   "pygments_lexer": "ipython3",
   "version": "3.10.12"
  }
 },
 "nbformat": 4,
 "nbformat_minor": 2
}
