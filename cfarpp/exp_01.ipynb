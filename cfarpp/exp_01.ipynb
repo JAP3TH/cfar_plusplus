{
 "cells": [
  {
   "cell_type": "code",
   "execution_count": null,
   "metadata": {},
   "outputs": [],
   "source": [
    "from rod2021_class import ROD_2021\n",
    "from _utils import get_all_scenarios\n",
    "from time import time"
   ]
  },
  {
   "cell_type": "markdown",
   "metadata": {},
   "source": [
    "This experiment is configured to prove the concept of priori spectra consideration, but it does not yet introduce Gaussian dimples (dimple size = 0).\n",
    "\n",
    "Run one loop through the whole dataset (all scenarios) for a specific configuration. We filled the standard adjustments for the guard bound and training bound parameters, but this can also be adapted. You can also select if you want to run all scenarios or if you want to select a specific scenario."
   ]
  },
  {
   "cell_type": "code",
   "execution_count": null,
   "metadata": {},
   "outputs": [],
   "source": [
    "av_range = 12\n",
    "av_angle = 4\n",
    "guard_range = 10\n",
    "guard_angle = 2\n",
    "\n",
    "rod = ROD_2021(av_range, av_angle, guard_range, guard_angle, dimple_depth=0.0)\n",
    "\n",
    "# gets all available scenes\n",
    "scenario_list = get_all_scenarios(rod)\n",
    "# scenario_list = [\"2019_04_09_BMS1000\"]\n",
    "\n",
    "# play all files of the list\n",
    "t0 = time()\n",
    "frame_cnt = 0\n",
    "for sc in scenario_list:\n",
    "    # select first scenario from the list\n",
    "    rod.scenario_loader(sc)\n",
    "    frame_cnt += rod.frame_len\n",
    "    # loop through frames of the scenario\n",
    "    rod.loop_frames(sc)\n",
    "t3 = time()\n",
    "print(f\"Total time for all scenarios: {t3 - t0}, average per frame: {(t3 - t0) / frame_cnt}\")\n",
    "\n",
    "# close the CSV files\n",
    "rod.f_gt.close()\n",
    "rod.f_det.close()"
   ]
  },
  {
   "cell_type": "markdown",
   "metadata": {},
   "source": [
    "The results are listed in the two files `{date}_{params}_gt.csv` and `{date}_{params}_detections.csv`. Run the notebook `exp_metrics.ipynb` with the parameters of these two file names to display metrics such as False Positives, False Negatives, Recall, Precision and F1 score."
   ]
  }
 ],
 "metadata": {
  "kernelspec": {
   "display_name": "Python 3",
   "language": "python",
   "name": "python3"
  },
  "language_info": {
   "codemirror_mode": {
    "name": "ipython",
    "version": 3
   },
   "file_extension": ".py",
   "mimetype": "text/x-python",
   "name": "python",
   "nbconvert_exporter": "python",
   "pygments_lexer": "ipython3",
   "version": "3.10.12"
  }
 },
 "nbformat": 4,
 "nbformat_minor": 2
}
