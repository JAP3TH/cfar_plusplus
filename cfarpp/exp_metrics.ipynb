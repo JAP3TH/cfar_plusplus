{
 "cells": [
  {
   "cell_type": "markdown",
   "metadata": {},
   "source": [
    "This notebook determines the detection metric for an experiment consisting of a set of runs. \n",
    "It calculates the metrics from the two CSV files which are produced by each experiment.\n",
    "\n",
    "It is important to adapt the four parameters:\n",
    "\n",
    "* Export directory in which the CSV files are stored\n",
    "* Name of the \"ground truth\" CSV file \n",
    "* Name of the \"detections\" CSV file\n",
    "* Label list: which of the labels should be part of the metric: 0=pedestrian, 1=bicylist, 2=car\n"
   ]
  },
  {
   "cell_type": "code",
   "execution_count": null,
   "metadata": {},
   "outputs": [],
   "source": [
    "from os.path import join\n",
    "from _utils import get_detection_metrics\n",
    "\n",
    "dir_export = \"\"\n",
    "\n",
    "# e.g., gt_csv_filename = 20250224_183836_avr12_ava4_gr10_ga2_gt.csv\n",
    "gt_csv_filename = \"\"\n",
    "# e.g., gt_csv_filename = 20250224_183836_avr12_ava4_gr10_ga2_detections.csv\n",
    "det_csv_filename = \"\"\n",
    "\n",
    "labellist = [0, 1]\n",
    "\n",
    "print(get_detection_metrics(join(dir_export, gt_csv_filename),\n",
    "                            join(dir_export, det_csv_filename),\n",
    "                            labellist))"
   ]
  }
 ],
 "metadata": {
  "kernelspec": {
   "display_name": "Python 3",
   "language": "python",
   "name": "python3"
  },
  "language_info": {
   "codemirror_mode": {
    "name": "ipython",
    "version": 3
   },
   "file_extension": ".py",
   "mimetype": "text/x-python",
   "name": "python",
   "nbconvert_exporter": "python",
   "pygments_lexer": "ipython3",
   "version": "3.10.12"
  }
 },
 "nbformat": 4,
 "nbformat_minor": 2
}
